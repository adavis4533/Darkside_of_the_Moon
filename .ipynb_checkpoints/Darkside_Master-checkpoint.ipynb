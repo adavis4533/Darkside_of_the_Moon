{
 "cells": [
  {
   "cell_type": "code",
   "execution_count": 1,
   "metadata": {},
   "outputs": [],
   "source": [
    "% matplotlib notebook"
   ]
  },
  {
   "cell_type": "code",
   "execution_count": 2,
   "metadata": {},
   "outputs": [],
   "source": [
    "import numpy as np\n",
    "import pandas as pd\n",
    "import csv\n",
    "import json\n",
    "import requests"
   ]
  },
  {
   "cell_type": "code",
   "execution_count": null,
   "metadata": {},
   "outputs": [],
   "source": [
    "# 2016 Data\n",
    "city = \"New York City, NY\"\n",
    "year = 2016\n",
    "url = f\"https://api.usno.navy.mil/moon/phase?year={year}&loc={city}\"\n",
    "response = requests.get(url).json()\n",
    "response"
   ]
  },
  {
   "cell_type": "code",
   "execution_count": null,
   "metadata": {},
   "outputs": [],
   "source": [
    "# Create lists and then the dataframe\n",
    "date_2016 = []\n",
    "phase_2016 = []\n",
    "for entry in response['phasedata']:\n",
    "    # Date\n",
    "    date_2016.append(entry['date'])\n",
    " \n",
    "    # Phase\n",
    "    phase_2016.append(entry['phase'])\n",
    "    \n",
    "moon_2016 = pd.DataFrame({\"Date\": date_list,\n",
    "                         \"Phase\": phase_list})\n",
    "moon_2016.head()"
   ]
  },
  {
   "cell_type": "code",
   "execution_count": null,
   "metadata": {},
   "outputs": [],
   "source": [
    "# 2017 Data\n",
    "city = \"New York City, NY\"\n",
    "year = 2017\n",
    "url = f\"https://api.usno.navy.mil/moon/phase?year={year}&loc={city}\"\n",
    "response = requests.get(url).json()\n",
    "response"
   ]
  },
  {
   "cell_type": "code",
   "execution_count": null,
   "metadata": {},
   "outputs": [],
   "source": [
    "# Create lists and then the dataframe\n",
    "date_2017 = []\n",
    "phase_2017 = []\n",
    "for entry in response['phasedata']:\n",
    "    # Date\n",
    "    date_2017.append(entry['date'])\n",
    " \n",
    "    # Phase\n",
    "    phase_2017.append(entry['phase'])\n",
    "    \n",
    "moon_2017 = pd.DataFrame({\"Date\": date_list,\n",
    "                         \"Phase\": phase_list})\n",
    "moon_2017.head()"
   ]
  },
  {
   "cell_type": "code",
   "execution_count": 3,
   "metadata": {},
   "outputs": [
    {
     "data": {
      "text/plain": [
       "{'error': False,\n",
       " 'apiversion': '2.2.1',\n",
       " 'year': 2018,\n",
       " 'month': 1,\n",
       " 'day': 1,\n",
       " 'numphases': 50,\n",
       " 'datechanged': False,\n",
       " 'phasedata': [{'phase': 'Full Moon', 'date': '2018 Jan 02', 'time': '02:24'},\n",
       "  {'phase': 'Last Quarter', 'date': '2018 Jan 08', 'time': '22:25'},\n",
       "  {'phase': 'New Moon', 'date': '2018 Jan 17', 'time': '02:17'},\n",
       "  {'phase': 'First Quarter', 'date': '2018 Jan 24', 'time': '22:20'},\n",
       "  {'phase': 'Full Moon', 'date': '2018 Jan 31', 'time': '13:27'},\n",
       "  {'phase': 'Last Quarter', 'date': '2018 Feb 07', 'time': '15:54'},\n",
       "  {'phase': 'New Moon', 'date': '2018 Feb 15', 'time': '21:05'},\n",
       "  {'phase': 'First Quarter', 'date': '2018 Feb 23', 'time': '08:09'},\n",
       "  {'phase': 'Full Moon', 'date': '2018 Mar 02', 'time': '00:51'},\n",
       "  {'phase': 'Last Quarter', 'date': '2018 Mar 09', 'time': '11:20'},\n",
       "  {'phase': 'New Moon', 'date': '2018 Mar 17', 'time': '13:12'},\n",
       "  {'phase': 'First Quarter', 'date': '2018 Mar 24', 'time': '15:35'},\n",
       "  {'phase': 'Full Moon', 'date': '2018 Mar 31', 'time': '12:37'},\n",
       "  {'phase': 'Last Quarter', 'date': '2018 Apr 08', 'time': '07:17'},\n",
       "  {'phase': 'New Moon', 'date': '2018 Apr 16', 'time': '01:57'},\n",
       "  {'phase': 'First Quarter', 'date': '2018 Apr 22', 'time': '21:46'},\n",
       "  {'phase': 'Full Moon', 'date': '2018 Apr 30', 'time': '00:58'},\n",
       "  {'phase': 'Last Quarter', 'date': '2018 May 08', 'time': '02:09'},\n",
       "  {'phase': 'New Moon', 'date': '2018 May 15', 'time': '11:48'},\n",
       "  {'phase': 'First Quarter', 'date': '2018 May 22', 'time': '03:49'},\n",
       "  {'phase': 'Full Moon', 'date': '2018 May 29', 'time': '14:19'},\n",
       "  {'phase': 'Last Quarter', 'date': '2018 Jun 06', 'time': '18:32'},\n",
       "  {'phase': 'New Moon', 'date': '2018 Jun 13', 'time': '19:43'},\n",
       "  {'phase': 'First Quarter', 'date': '2018 Jun 20', 'time': '10:51'},\n",
       "  {'phase': 'Full Moon', 'date': '2018 Jun 28', 'time': '04:53'},\n",
       "  {'phase': 'Last Quarter', 'date': '2018 Jul 06', 'time': '07:51'},\n",
       "  {'phase': 'New Moon', 'date': '2018 Jul 13', 'time': '02:48'},\n",
       "  {'phase': 'First Quarter', 'date': '2018 Jul 19', 'time': '19:52'},\n",
       "  {'phase': 'Full Moon', 'date': '2018 Jul 27', 'time': '20:20'},\n",
       "  {'phase': 'Last Quarter', 'date': '2018 Aug 04', 'time': '18:18'},\n",
       "  {'phase': 'New Moon', 'date': '2018 Aug 11', 'time': '09:58'},\n",
       "  {'phase': 'First Quarter', 'date': '2018 Aug 18', 'time': '07:48'},\n",
       "  {'phase': 'Full Moon', 'date': '2018 Aug 26', 'time': '11:56'},\n",
       "  {'phase': 'Last Quarter', 'date': '2018 Sep 03', 'time': '02:37'},\n",
       "  {'phase': 'New Moon', 'date': '2018 Sep 09', 'time': '18:01'},\n",
       "  {'phase': 'First Quarter', 'date': '2018 Sep 16', 'time': '23:15'},\n",
       "  {'phase': 'Full Moon', 'date': '2018 Sep 25', 'time': '02:52'},\n",
       "  {'phase': 'Last Quarter', 'date': '2018 Oct 02', 'time': '09:45'},\n",
       "  {'phase': 'New Moon', 'date': '2018 Oct 09', 'time': '03:47'},\n",
       "  {'phase': 'First Quarter', 'date': '2018 Oct 16', 'time': '18:02'},\n",
       "  {'phase': 'Full Moon', 'date': '2018 Oct 24', 'time': '16:45'},\n",
       "  {'phase': 'Last Quarter', 'date': '2018 Oct 31', 'time': '16:40'},\n",
       "  {'phase': 'New Moon', 'date': '2018 Nov 07', 'time': '16:02'},\n",
       "  {'phase': 'First Quarter', 'date': '2018 Nov 15', 'time': '14:54'},\n",
       "  {'phase': 'Full Moon', 'date': '2018 Nov 23', 'time': '05:39'},\n",
       "  {'phase': 'Last Quarter', 'date': '2018 Nov 30', 'time': '00:19'},\n",
       "  {'phase': 'New Moon', 'date': '2018 Dec 07', 'time': '07:20'},\n",
       "  {'phase': 'First Quarter', 'date': '2018 Dec 15', 'time': '11:49'},\n",
       "  {'phase': 'Full Moon', 'date': '2018 Dec 22', 'time': '17:49'},\n",
       "  {'phase': 'Last Quarter', 'date': '2018 Dec 29', 'time': '09:34'}]}"
      ]
     },
     "execution_count": 3,
     "metadata": {},
     "output_type": "execute_result"
    }
   ],
   "source": [
    "# 2018 Data\n",
    "city = \"New York City, NY\"\n",
    "year = 2018\n",
    "url = f\"https://api.usno.navy.mil/moon/phase?year={year}&loc={city}\"\n",
    "response = requests.get(url).json()\n",
    "response"
   ]
  },
  {
   "cell_type": "code",
   "execution_count": 20,
   "metadata": {},
   "outputs": [
    {
     "data": {
      "text/html": [
       "<div>\n",
       "<style scoped>\n",
       "    .dataframe tbody tr th:only-of-type {\n",
       "        vertical-align: middle;\n",
       "    }\n",
       "\n",
       "    .dataframe tbody tr th {\n",
       "        vertical-align: top;\n",
       "    }\n",
       "\n",
       "    .dataframe thead th {\n",
       "        text-align: right;\n",
       "    }\n",
       "</style>\n",
       "<table border=\"1\" class=\"dataframe\">\n",
       "  <thead>\n",
       "    <tr style=\"text-align: right;\">\n",
       "      <th></th>\n",
       "      <th>Date</th>\n",
       "      <th>Phase</th>\n",
       "    </tr>\n",
       "  </thead>\n",
       "  <tbody>\n",
       "    <tr>\n",
       "      <th>0</th>\n",
       "      <td>2018 Jan 02</td>\n",
       "      <td>Full Moon</td>\n",
       "    </tr>\n",
       "    <tr>\n",
       "      <th>1</th>\n",
       "      <td>2018 Jan 08</td>\n",
       "      <td>Last Quarter</td>\n",
       "    </tr>\n",
       "    <tr>\n",
       "      <th>2</th>\n",
       "      <td>2018 Jan 17</td>\n",
       "      <td>New Moon</td>\n",
       "    </tr>\n",
       "    <tr>\n",
       "      <th>3</th>\n",
       "      <td>2018 Jan 24</td>\n",
       "      <td>First Quarter</td>\n",
       "    </tr>\n",
       "    <tr>\n",
       "      <th>4</th>\n",
       "      <td>2018 Jan 31</td>\n",
       "      <td>Full Moon</td>\n",
       "    </tr>\n",
       "  </tbody>\n",
       "</table>\n",
       "</div>"
      ],
      "text/plain": [
       "          Date          Phase\n",
       "0  2018 Jan 02      Full Moon\n",
       "1  2018 Jan 08   Last Quarter\n",
       "2  2018 Jan 17       New Moon\n",
       "3  2018 Jan 24  First Quarter\n",
       "4  2018 Jan 31      Full Moon"
      ]
     },
     "execution_count": 20,
     "metadata": {},
     "output_type": "execute_result"
    }
   ],
   "source": [
    "# Create lists and then the dataframe\n",
    "date_2018 = []\n",
    "phase_2018 = []\n",
    "for entry in response['phasedata']:\n",
    "    # Date\n",
    "    date_2018.append(entry['date'])\n",
    " \n",
    "    # Phase\n",
    "    phase_2018.append(entry['phase'])\n",
    "    \n",
    "moon_2018 = pd.DataFrame({\"Date\": date_list,\n",
    "                         \"Phase\": phase_list})\n",
    "moon_2018.head()"
   ]
  },
  {
   "cell_type": "code",
   "execution_count": null,
   "metadata": {},
   "outputs": [],
   "source": []
  }
 ],
 "metadata": {
  "kernelspec": {
   "display_name": "Python 3",
   "language": "python",
   "name": "python3"
  },
  "language_info": {
   "codemirror_mode": {
    "name": "ipython",
    "version": 3
   },
   "file_extension": ".py",
   "mimetype": "text/x-python",
   "name": "python",
   "nbconvert_exporter": "python",
   "pygments_lexer": "ipython3",
   "version": "3.7.3"
  }
 },
 "nbformat": 4,
 "nbformat_minor": 2
}
